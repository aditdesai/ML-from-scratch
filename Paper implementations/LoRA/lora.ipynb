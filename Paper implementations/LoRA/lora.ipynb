{
 "cells": [
  {
   "cell_type": "code",
   "execution_count": 1,
   "metadata": {},
   "outputs": [
    {
     "data": {
      "text/plain": [
       "<torch._C.Generator at 0x108df35d0>"
      ]
     },
     "execution_count": 1,
     "metadata": {},
     "output_type": "execute_result"
    }
   ],
   "source": [
    "import torch\n",
    "import torch.nn as nn\n",
    "import torchvision\n",
    "import torchvision.datasets as datasets\n",
    "import torchvision.transforms as tfs\n",
    "import matplotlib.pyplot as plt\n",
    "\n",
    "torch.manual_seed(0)"
   ]
  },
  {
   "cell_type": "code",
   "execution_count": 2,
   "metadata": {},
   "outputs": [],
   "source": [
    "from torch.utils.data import DataLoader\n",
    "\n",
    "transform = tfs.Compose([\n",
    "    tfs.ToTensor(),\n",
    "    tfs.Normalize(mean=(0.1307,), std=(0.3081,))\n",
    "])\n",
    "\n",
    "train_ds = datasets.MNIST(root='./data', train=True, download=True, transform=transform)\n",
    "test_ds = datasets.MNIST(root='./data', train=False, download=True, transform=transform)\n",
    "\n",
    "train_loader = DataLoader(train_ds, batch_size=10, shuffle=True)\n",
    "test_loader = DataLoader(test_ds, batch_size=10, shuffle=False)\n",
    "\n",
    "device = 'cuda' if torch.cuda.is_available() else 'cpu'"
   ]
  },
  {
   "cell_type": "code",
   "execution_count": 3,
   "metadata": {},
   "outputs": [],
   "source": [
    "import torch.nn.functional as F\n",
    "\n",
    "class Network(nn.Module):\n",
    "    def __init__(self, hidden_size1=1000, hidden_size2=2000):\n",
    "        super().__init__()\n",
    "\n",
    "        self.linear1 = nn.Linear(28*28, hidden_size1)\n",
    "        self.linear2 = nn.Linear(hidden_size1, hidden_size2)\n",
    "        self.linear3 = nn.Linear(hidden_size2, 10)\n",
    "\n",
    "    def forward(self, x):\n",
    "        x = x.view(-1, 28*28)\n",
    "        x = F.relu(self.linear1(x))\n",
    "        x = F.relu(self.linear2(x))\n",
    "        x = self.linear3(x)\n",
    "\n",
    "        return x\n",
    "    \n",
    "model = Network().to(device)"
   ]
  },
  {
   "cell_type": "code",
   "execution_count": 4,
   "metadata": {},
   "outputs": [],
   "source": [
    "num_epochs = 1"
   ]
  },
  {
   "cell_type": "code",
   "execution_count": 5,
   "metadata": {},
   "outputs": [
    {
     "name": "stdout",
     "output_type": "stream",
     "text": [
      "Epoch 1 / 1 | Train Loss:  0.2387\n"
     ]
    }
   ],
   "source": [
    "def train(train_loader, model, num_epochs=1):\n",
    "    loss_fn = nn.CrossEntropyLoss()\n",
    "    optim = torch.optim.Adam(model.parameters(), lr=0.001)\n",
    "\n",
    "    for epoch in range(num_epochs):\n",
    "        model.train()\n",
    "\n",
    "        train_loss = 0\n",
    "        for imgs, labels in train_loader:\n",
    "            imgs, labels = imgs.to(device), labels.to(device)\n",
    "\n",
    "            optim.zero_grad()\n",
    "\n",
    "            out = model(imgs.view(-1, 28*28))\n",
    "            loss = loss_fn(out, labels)\n",
    "            train_loss += loss.item()\n",
    "\n",
    "            loss.backward()\n",
    "            optim.step()\n",
    "\n",
    "        train_loss /= len(train_loader)\n",
    "\n",
    "        print(f'Epoch {epoch+1} / {num_epochs} | Train Loss: {train_loss: .4f}')\n",
    "\n",
    "train(train_loader, model, num_epochs)"
   ]
  },
  {
   "cell_type": "code",
   "execution_count": 6,
   "metadata": {},
   "outputs": [],
   "source": [
    "# Keep copy of original weights\n",
    "original_weights = {}\n",
    "for name, param in model.named_parameters():\n",
    "    original_weights[name] = param.clone().detach()"
   ]
  },
  {
   "cell_type": "code",
   "execution_count": 7,
   "metadata": {},
   "outputs": [
    {
     "name": "stdout",
     "output_type": "stream",
     "text": [
      "Accuracy: 0.9518\n",
      "wrong counts for digit 0: 28\n",
      "wrong counts for digit 1: 12\n",
      "wrong counts for digit 2: 49\n",
      "wrong counts for digit 3: 68\n",
      "wrong counts for digit 4: 33\n",
      "wrong counts for digit 5: 18\n",
      "wrong counts for digit 6: 103\n",
      "wrong counts for digit 7: 44\n",
      "wrong counts for digit 8: 24\n",
      "wrong counts for digit 9: 103\n"
     ]
    }
   ],
   "source": [
    "def test():\n",
    "    correct, total = 0, 0\n",
    "    wrong_counts = [0 for _ in range(10)]\n",
    "\n",
    "    model.eval()\n",
    "    with torch.inference_mode():\n",
    "        for imgs, labels in test_loader:\n",
    "            imgs, labels = imgs.to(device), labels.to(device)\n",
    "\n",
    "            out = model(imgs.view(-1, 28*28))\n",
    "\n",
    "            for idx, num in enumerate(out):\n",
    "                if torch.argmax(num) == labels[idx]:\n",
    "                    correct += 1\n",
    "                else:\n",
    "                    wrong_counts[labels[idx]] += 1\n",
    "                \n",
    "                total += 1\n",
    "\n",
    "    print(f'Accuracy: {correct / total}')\n",
    "    for i in range(len(wrong_counts)):\n",
    "        print(f'wrong counts for digit {i}: {wrong_counts[i]}')\n",
    "\n",
    "test()"
   ]
  },
  {
   "cell_type": "code",
   "execution_count": 8,
   "metadata": {},
   "outputs": [
    {
     "name": "stdout",
     "output_type": "stream",
     "text": [
      "Total number of parameters: 2807010\n"
     ]
    }
   ],
   "source": [
    "# Count total number of parameters\n",
    "total_params = sum([p.numel() for p in model.parameters()])\n",
    "print(f'Total number of parameters: {total_params}')"
   ]
  },
  {
   "cell_type": "code",
   "execution_count": 9,
   "metadata": {},
   "outputs": [],
   "source": [
    "class LoRALinear(nn.Module):\n",
    "    def __init__(self, in_features, out_features, rank=1, alpha=1.0, device='cpu'):\n",
    "        super().__init__()\n",
    "\n",
    "        self.in_features = in_features\n",
    "        self.out_features = out_features\n",
    "        self.rank = rank\n",
    "        self.alpha = alpha\n",
    "\n",
    "        # We use a random gaussian initialization for A and zero for B so ∆W = BA is zero at the beginning of training\n",
    "        self.B = nn.Parameter(torch.zeros((in_features, rank)).to(device))\n",
    "        self.A = nn.Parameter(torch.zeros((rank, out_features)).to(device))\n",
    "        nn.init.normal_(self.A, mean=0, std=1)\n",
    "\n",
    "        self.scale = alpha / rank\n",
    "\n",
    "    def forward(self, original_weights):\n",
    "        return original_weights + torch.matmul(self.B, self.A).view(original_weights.shape) * self.scale"
   ]
  },
  {
   "cell_type": "code",
   "execution_count": 10,
   "metadata": {},
   "outputs": [
    {
     "data": {
      "text/plain": [
       "ParametrizedLinear(\n",
       "  in_features=2000, out_features=10, bias=True\n",
       "  (parametrizations): ModuleDict(\n",
       "    (weight): ParametrizationList(\n",
       "      (0): LoRALinear()\n",
       "    )\n",
       "  )\n",
       ")"
      ]
     },
     "execution_count": 10,
     "metadata": {},
     "output_type": "execute_result"
    }
   ],
   "source": [
    "import torch.nn.utils.parametrize as parametrize\n",
    "\n",
    "def linear_layer_parameterization(layer, device, rank=1, alpha=1):\n",
    "    in_features, out_features = layer.weight.shape\n",
    "\n",
    "    return LoRALinear(in_features, out_features, rank=rank, alpha=alpha, device=device)\n",
    "\n",
    "# register_parameterization() - runs through LoRALinear before net.linear\n",
    "parametrize.register_parametrization(model.linear1, \"weight\", linear_layer_parameterization(model.linear1, device))\n",
    "parametrize.register_parametrization(model.linear2, \"weight\", linear_layer_parameterization(model.linear2, device))\n",
    "parametrize.register_parametrization(model.linear3, \"weight\", linear_layer_parameterization(model.linear3, device))"
   ]
  },
  {
   "cell_type": "code",
   "execution_count": 11,
   "metadata": {},
   "outputs": [
    {
     "name": "stdout",
     "output_type": "stream",
     "text": [
      "Number of non-LoRA parameters: 2807010\n",
      "Number of LoRA parameters: 6794\n"
     ]
    }
   ],
   "source": [
    "total_params_lora = 0\n",
    "total_params_non_lora = 0\n",
    "\n",
    "for layer in [model.linear1, model.linear2, model.linear3]:\n",
    "    total_params_lora += layer.parametrizations['weight'][0].A.nelement() + layer.parametrizations['weight'][0].B.nelement()\n",
    "    total_params_non_lora += layer.weight.nelement() + layer.bias.nelement()\n",
    "\n",
    "print(f'Number of non-LoRA parameters: {total_params_non_lora}')\n",
    "print(f'Number of LoRA parameters: {total_params_lora}')"
   ]
  },
  {
   "cell_type": "code",
   "execution_count": 12,
   "metadata": {},
   "outputs": [
    {
     "name": "stdout",
     "output_type": "stream",
     "text": [
      "Freezing linear1.bias\n",
      "Freezing linear1.parametrizations.weight.original\n",
      "Freezing linear2.bias\n",
      "Freezing linear2.parametrizations.weight.original\n",
      "Freezing linear3.bias\n",
      "Freezing linear3.parametrizations.weight.original\n"
     ]
    }
   ],
   "source": [
    "# Freeze the non-LoRA layers\n",
    "for name, param in model.named_parameters():\n",
    "    if 'A' not in name and 'B' not in name:\n",
    "        print(f'Freezing {name}')\n",
    "        param.requires_grad = False"
   ]
  },
  {
   "cell_type": "code",
   "execution_count": 13,
   "metadata": {},
   "outputs": [
    {
     "name": "stdout",
     "output_type": "stream",
     "text": [
      "Epoch 1 / 1 | Train Loss:  0.0216\n"
     ]
    }
   ],
   "source": [
    "ds = datasets.MNIST(root='./data', train=True, download=True, transform=transform)\n",
    "\n",
    "keep_indices = (ds.targets == 9)\n",
    "ds.data = ds.data[keep_indices]\n",
    "ds.targets = ds.targets[keep_indices]\n",
    "\n",
    "train_loader = DataLoader(ds, batch_size=10, shuffle=True)\n",
    "\n",
    "train(train_loader, model, num_epochs)"
   ]
  },
  {
   "cell_type": "code",
   "execution_count": 14,
   "metadata": {},
   "outputs": [
    {
     "name": "stdout",
     "output_type": "stream",
     "text": [
      "Accuracy: 0.4966\n",
      "wrong counts for digit 0: 957\n",
      "wrong counts for digit 1: 540\n",
      "wrong counts for digit 2: 202\n",
      "wrong counts for digit 3: 692\n",
      "wrong counts for digit 4: 471\n",
      "wrong counts for digit 5: 587\n",
      "wrong counts for digit 6: 259\n",
      "wrong counts for digit 7: 502\n",
      "wrong counts for digit 8: 823\n",
      "wrong counts for digit 9: 1\n"
     ]
    }
   ],
   "source": [
    "test()"
   ]
  }
 ],
 "metadata": {
  "kernelspec": {
   "display_name": "3.11.6",
   "language": "python",
   "name": "python3"
  },
  "language_info": {
   "codemirror_mode": {
    "name": "ipython",
    "version": 3
   },
   "file_extension": ".py",
   "mimetype": "text/x-python",
   "name": "python",
   "nbconvert_exporter": "python",
   "pygments_lexer": "ipython3",
   "version": "3.11.6"
  }
 },
 "nbformat": 4,
 "nbformat_minor": 2
}
